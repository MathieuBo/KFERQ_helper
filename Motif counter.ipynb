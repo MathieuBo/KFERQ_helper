{
 "cells": [
  {
   "cell_type": "markdown",
   "metadata": {},
   "source": [
    "# KFERQ motifs analysis\n",
    "----\n",
    "\n",
    "Mathieu Bourdenx - October 2020\n",
    "\n",
    "[Github](https://github.com/MathieuBo)\n",
    "\n",
    "---\n",
    "### Description\n",
    "This script takes as input a .csv file exported from the KFERQ finder website.\n",
    "\n",
    "It will perform quantification of the % of KFERQ motifs according to 4 methods: \n",
    "* **Method 1:** Only canonical motifs are considered. \n",
    "* **Method 2:** Canonical and PTM-generated (phospho. and acetyl.) are considered. One canonical is enough to be classified as canonical.\n",
    "* **Method 3:** Canonical and PTM-generated (phospho. and acetyl.) are considered. One canonical is enough to be classified as canonical. Phosphorylation-generated motifs have priority over acetylated-generated (i.e. a single phospho. motifs is enough to be classified as phospho.).\n",
    "* **Method 4:** Canonical and PTM-generated (phospho. and acetyl.) are considered. One canonical is enough to be classified as canonical. Acetylation-generated motifs have priority over phosphorylation-generated (i.e. a single acetyl. motifs is enough to be classified as acetyl.).\n",
    "\n",
    "By default, the \"other kind of motifs\" *are not considered*. "
   ]
  },
  {
   "cell_type": "code",
   "execution_count": 2,
   "metadata": {},
   "outputs": [],
   "source": [
    "import numpy as np\n",
    "import pandas as pd\n",
    "import matplotlib.pyplot as plt"
   ]
  },
  {
   "cell_type": "code",
   "execution_count": 3,
   "metadata": {},
   "outputs": [],
   "source": [
    "# Define colors for each kind of motif\n",
    "\n",
    "color_dict = dict()\n",
    "color_dict['No motif'] = 'gray'\n",
    "color_dict['Canonical'] = '#EEEE00'\n",
    "color_dict['Phospho.'] = '#009ACD'\n",
    "color_dict['Acetyl.'] = '#66CD00'\n",
    "color_dict['PTM'] = 'teal'"
   ]
  },
  {
   "cell_type": "markdown",
   "metadata": {},
   "source": [
    "## Load data"
   ]
  },
  {
   "cell_type": "code",
   "execution_count": 4,
   "metadata": {},
   "outputs": [],
   "source": [
    "# Load data\n",
    "data = pd.read_csv('./Data/example.csv')"
   ]
  },
  {
   "cell_type": "code",
   "execution_count": 5,
   "metadata": {},
   "outputs": [
    {
     "data": {
      "text/html": [
       "<div>\n",
       "<style scoped>\n",
       "    .dataframe tbody tr th:only-of-type {\n",
       "        vertical-align: middle;\n",
       "    }\n",
       "\n",
       "    .dataframe tbody tr th {\n",
       "        vertical-align: top;\n",
       "    }\n",
       "\n",
       "    .dataframe thead th {\n",
       "        text-align: right;\n",
       "    }\n",
       "</style>\n",
       "<table border=\"1\" class=\"dataframe\">\n",
       "  <thead>\n",
       "    <tr style=\"text-align: right;\">\n",
       "      <th></th>\n",
       "      <th>entry</th>\n",
       "      <th>status</th>\n",
       "      <th>protein_names</th>\n",
       "      <th>gene_names</th>\n",
       "      <th>length</th>\n",
       "      <th>motif</th>\n",
       "      <th>motif_start</th>\n",
       "      <th>motif_type</th>\n",
       "    </tr>\n",
       "  </thead>\n",
       "  <tbody>\n",
       "    <tr>\n",
       "      <th>0</th>\n",
       "      <td>Q9Z2I8</td>\n",
       "      <td>reviewed</td>\n",
       "      <td>Succinate--CoA ligase [GDP-forming] subunit be...</td>\n",
       "      <td>Suclg2</td>\n",
       "      <td>433</td>\n",
       "      <td>KLLRE</td>\n",
       "      <td>13.0</td>\n",
       "      <td>acetyl. act.</td>\n",
       "    </tr>\n",
       "    <tr>\n",
       "      <th>1</th>\n",
       "      <td>Q9Z2I8</td>\n",
       "      <td>reviewed</td>\n",
       "      <td>Succinate--CoA ligase [GDP-forming] subunit be...</td>\n",
       "      <td>Suclg2</td>\n",
       "      <td>433</td>\n",
       "      <td>QSKKL</td>\n",
       "      <td>45.0</td>\n",
       "      <td>phos. act.</td>\n",
       "    </tr>\n",
       "    <tr>\n",
       "      <th>2</th>\n",
       "      <td>Q9Z2I8</td>\n",
       "      <td>reviewed</td>\n",
       "      <td>Succinate--CoA ligase [GDP-forming] subunit be...</td>\n",
       "      <td>Suclg2</td>\n",
       "      <td>433</td>\n",
       "      <td>IFKEQ</td>\n",
       "      <td>189.0</td>\n",
       "      <td>canonical</td>\n",
       "    </tr>\n",
       "    <tr>\n",
       "      <th>3</th>\n",
       "      <td>Q9Z2I8</td>\n",
       "      <td>reviewed</td>\n",
       "      <td>Succinate--CoA ligase [GDP-forming] subunit be...</td>\n",
       "      <td>Suclg2</td>\n",
       "      <td>433</td>\n",
       "      <td>QITKL</td>\n",
       "      <td>225.0</td>\n",
       "      <td>phos. act.</td>\n",
       "    </tr>\n",
       "    <tr>\n",
       "      <th>4</th>\n",
       "      <td>Q9Z2I8</td>\n",
       "      <td>reviewed</td>\n",
       "      <td>Succinate--CoA ligase [GDP-forming] subunit be...</td>\n",
       "      <td>Suclg2</td>\n",
       "      <td>433</td>\n",
       "      <td>QKDIF</td>\n",
       "      <td>271.0</td>\n",
       "      <td>canonical</td>\n",
       "    </tr>\n",
       "  </tbody>\n",
       "</table>\n",
       "</div>"
      ],
      "text/plain": [
       "    entry    status                                      protein_names  \\\n",
       "0  Q9Z2I8  reviewed  Succinate--CoA ligase [GDP-forming] subunit be...   \n",
       "1  Q9Z2I8  reviewed  Succinate--CoA ligase [GDP-forming] subunit be...   \n",
       "2  Q9Z2I8  reviewed  Succinate--CoA ligase [GDP-forming] subunit be...   \n",
       "3  Q9Z2I8  reviewed  Succinate--CoA ligase [GDP-forming] subunit be...   \n",
       "4  Q9Z2I8  reviewed  Succinate--CoA ligase [GDP-forming] subunit be...   \n",
       "\n",
       "  gene_names  length  motif  motif_start    motif_type  \n",
       "0     Suclg2     433  KLLRE         13.0  acetyl. act.  \n",
       "1     Suclg2     433  QSKKL         45.0    phos. act.  \n",
       "2     Suclg2     433  IFKEQ        189.0     canonical  \n",
       "3     Suclg2     433  QITKL        225.0    phos. act.  \n",
       "4     Suclg2     433  QKDIF        271.0     canonical  "
      ]
     },
     "execution_count": 5,
     "metadata": {},
     "output_type": "execute_result"
    }
   ],
   "source": [
    "# Check that data were loaded correctly\n",
    "data.head()"
   ]
  },
  {
   "cell_type": "markdown",
   "metadata": {},
   "source": [
    "## Prepare the data"
   ]
  },
  {
   "cell_type": "code",
   "execution_count": 6,
   "metadata": {},
   "outputs": [],
   "source": [
    "# Count the number of motif type per protein \n",
    "\n",
    "counted_data = data.groupby(['entry','motif_type']).size().to_frame('count').reset_index()\n",
    "counted_data = counted_data.pivot(index='entry', columns='motif_type', values='count')\n",
    "counted_data.columns = counted_data.columns.to_list()"
   ]
  },
  {
   "cell_type": "markdown",
   "metadata": {},
   "source": [
    "## Analyze motifs"
   ]
  },
  {
   "cell_type": "code",
   "execution_count": 8,
   "metadata": {},
   "outputs": [],
   "source": [
    "# Function to quantify the number of motifs according to 4 methods\n",
    "# Needs to be run only once\n",
    "\n",
    "def quantify_group(df):\n",
    "\n",
    "    for i in df.index:\n",
    "\n",
    "        if df.loc[i, 'no motif'] >= 1 or df.loc[i, 'other types of motifs'] >= 1:\n",
    "            \n",
    "            df.loc[i, 'Method1'] = 'No motif'\n",
    "            df.loc[i, 'Method2'] = 'No motif'\n",
    "            df.loc[i, 'Method3'] = 'No motif'\n",
    "            df.loc[i, 'Method4'] = 'No motif'\n",
    "            \n",
    "        elif df.loc[i, 'canonical'] >= 1:\n",
    "            \n",
    "            df.loc[i, 'Method1'] = 'Canonical'\n",
    "            df.loc[i, 'Method2'] = 'Canonical'\n",
    "            df.loc[i, 'Method3'] = 'Canonical'\n",
    "            df.loc[i, 'Method4'] = 'Canonical'\n",
    "            \n",
    "        else:\n",
    "            \n",
    "            if df.loc[i, 'phos. act.'] >= 1:\n",
    "                \n",
    "                df.loc[i, 'Method1'] = 'No motif'\n",
    "                df.loc[i, 'Method2'] = 'PTM'\n",
    "                df.loc[i, 'Method3'] = 'Phospho.'\n",
    "                \n",
    "            elif df.loc[i, 'acetyl. act.'] >= 1:\n",
    "                \n",
    "                df.loc[i, 'Method1'] = 'No motif'\n",
    "                df.loc[i, 'Method2'] = 'PTM'\n",
    "                df.loc[i, 'Method3'] = 'Acetyl.'\n",
    "             \n",
    "            if df.loc[i, 'acetyl. act.'] >= 1:\n",
    "                \n",
    "                df.loc[i, 'Method4'] = 'Acetyl.'\n",
    "                \n",
    "            elif df.loc[i, 'phos. act.'] >= 1:\n",
    "                \n",
    "                df.loc[i, 'Method4'] = 'Phospho.'\n",
    "    \n",
    "    df.to_excel('./Output/KFERQ_analysis_export.xlsx')"
   ]
  },
  {
   "cell_type": "code",
   "execution_count": 10,
   "metadata": {},
   "outputs": [],
   "source": [
    "# Perform the quantification\n",
    "\n",
    "quantify_group(counted_data)"
   ]
  },
  {
   "cell_type": "markdown",
   "metadata": {},
   "source": [
    "## Plotting"
   ]
  },
  {
   "cell_type": "code",
   "execution_count": 11,
   "metadata": {},
   "outputs": [
    {
     "data": {
      "image/png": "[encoded data removed]",
      "text/plain": [
       "<Figure size 576x576 with 4 Axes>"
      ]
     },
     "metadata": {},
     "output_type": "display_data"
    }
   ],
   "source": [
    "plt.figure(figsize=(8,8))\n",
    "\n",
    "for i,method in enumerate(['Method1', 'Method2', 'Method3', 'Method4']):\n",
    "    \n",
    "    motif_type, counts = np.unique(counted_data[method], return_counts=True)\n",
    "    counts_percent = counts / np.sum(counts) * 100\n",
    "    \n",
    "    plt.subplot(2,2,i+1)\n",
    "    plt.pie(x=counts_percent, labels=motif_type, autopct='%1.1f%%', colors=[color_dict[i] for i in motif_type])\n",
    "    plt.title(method)\n",
    "    #ax.axis('equal')\n",
    "\n",
    "plt.savefig('./Output/analysis.png', dpi=300)\n",
    "plt.show()"
   ]
  }
 ],
 "metadata": {
  "kernelspec": {
   "display_name": "Python 3",
   "language": "python",
   "name": "python3"
  },
  "language_info": {
   "codemirror_mode": {
    "name": "ipython",
    "version": 3
   },
   "file_extension": ".py",
   "mimetype": "text/x-python",
   "name": "python",
   "nbconvert_exporter": "python",
   "pygments_lexer": "ipython3",
   "version": "3.7.6"
  }
 },
 "nbformat": 4,
 "nbformat_minor": 4
}
